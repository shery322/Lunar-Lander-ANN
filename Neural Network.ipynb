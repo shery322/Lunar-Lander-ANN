{
 "cells": [
  {
   "cell_type": "code",
   "execution_count": null,
   "metadata": {},
   "outputs": [],
   "source": [
    "data = open ('ce889_dataCollection.csv')"
   ]
  },
  {
   "cell_type": "code",
   "execution_count": null,
   "metadata": {},
   "outputs": [],
   "source": [
    "print (data)"
   ]
  },
  {
   "cell_type": "code",
   "execution_count": null,
   "metadata": {},
   "outputs": [],
   "source": [
    "for lines in data:\n",
    "    print (lines)"
   ]
  },
  {
   "cell_type": "code",
   "execution_count": null,
   "metadata": {},
   "outputs": [],
   "source": [
    "import csv\n",
    "import pandas as pd"
   ]
  },
  {
   "cell_type": "code",
   "execution_count": null,
   "metadata": {},
   "outputs": [],
   "source": [
    "data = open ('ce889_dataCollection.csv', 'r')\n",
    "reader = csv.reader (data)\n",
    "data = pd.read_csv('ce889_dataCollection.csv')\n",
    "data.head()"
   ]
  },
  {
   "cell_type": "code",
   "execution_count": null,
   "metadata": {},
   "outputs": [],
   "source": [
    "import pandas as pd \n",
    "data = pd.read_csv (\"ce889_dataCollection.csv\")"
   ]
  },
  {
   "cell_type": "code",
   "execution_count": null,
   "metadata": {},
   "outputs": [],
   "source": [
    "print (data)"
   ]
  },
  {
   "cell_type": "code",
   "execution_count": null,
   "metadata": {},
   "outputs": [],
   "source": [
    "print (data.columns[1], data.rows)"
   ]
  },
  {
   "cell_type": "code",
   "execution_count": null,
   "metadata": {},
   "outputs": [],
   "source": [
    "x_dis = data.XDis\n",
    "print (x_dis)"
   ]
  },
  {
   "cell_type": "code",
   "execution_count": null,
   "metadata": {},
   "outputs": [],
   "source": [
    "print (data.XDis[1])"
   ]
  },
  {
   "cell_type": "code",
   "execution_count": null,
   "metadata": {},
   "outputs": [],
   "source": [
    "max (x_dis)"
   ]
  },
  {
   "cell_type": "code",
   "execution_count": null,
   "metadata": {},
   "outputs": [],
   "source": [
    "data = data.dropna(axis=0)"
   ]
  },
  {
   "cell_type": "code",
   "execution_count": null,
   "metadata": {},
   "outputs": [],
   "source": [
    "x_dis = data.XDis\n",
    "print (x_dis)"
   ]
  },
  {
   "cell_type": "code",
   "execution_count": null,
   "metadata": {},
   "outputs": [],
   "source": [
    "print (x_dis[1])"
   ]
  },
  {
   "cell_type": "code",
   "execution_count": null,
   "metadata": {},
   "outputs": [],
   "source": [
    "min (x_dis)"
   ]
  },
  {
   "cell_type": "code",
   "execution_count": null,
   "metadata": {},
   "outputs": [],
   "source": [
    "l = len (x_dis)\n",
    "print (l)"
   ]
  },
  {
   "cell_type": "code",
   "execution_count": null,
   "metadata": {},
   "outputs": [],
   "source": [
    "for i in range (0,l,1):\n",
    "    x_dis[i] = (x_dis[i]-min(x_dis))/(max(x_dis)-min(x_dis))\n",
    "print (x_dis)"
   ]
  },
  {
   "cell_type": "code",
   "execution_count": null,
   "metadata": {},
   "outputs": [],
   "source": [
    "Px_dis[2] = (x_dis[2]-min(x_dis))/(max(x_dis)-min(x_dis))"
   ]
  },
  {
   "cell_type": "code",
   "execution_count": null,
   "metadata": {},
   "outputs": [],
   "source": [
    "print (x_dis)\n",
    "print (data.XDis)"
   ]
  },
  {
   "cell_type": "code",
   "execution_count": null,
   "metadata": {},
   "outputs": [],
   "source": [
    "y_dis = data.YDis\n",
    "l = len (y_dis)\n",
    "for i in range (0,l,1):\n",
    "    y_dis[i] = (y_dis[i]-min(y_dis))/(max(y_dis)-min(y_dis)) \n",
    "print (y_dis)\n",
    "print (data.YDis)"
   ]
  },
  {
   "cell_type": "code",
   "execution_count": null,
   "metadata": {},
   "outputs": [],
   "source": []
  },
  {
   "cell_type": "code",
   "execution_count": null,
   "metadata": {},
   "outputs": [],
   "source": [
    "y_dis = data.YDis\n",
    "print (y_dis)"
   ]
  },
  {
   "cell_type": "code",
   "execution_count": null,
   "metadata": {},
   "outputs": [],
   "source": [
    "y_vel = data.VelY\n",
    "l = len (y_vel)\n",
    "for i in range (0,l,1):\n",
    "    y_vel[i] = (y_vel[i]-min(y_vel))/(max(y_vel)-min(y_vel)) \n",
    "print (y_vel)"
   ]
  },
  {
   "cell_type": "code",
   "execution_count": null,
   "metadata": {},
   "outputs": [],
   "source": [
    "print (x_dis, y_dis, y_vel)"
   ]
  },
  {
   "cell_type": "code",
   "execution_count": null,
   "metadata": {},
   "outputs": [],
   "source": [
    "print (data)"
   ]
  },
  {
   "cell_type": "code",
   "execution_count": null,
   "metadata": {},
   "outputs": [],
   "source": [
    "x_vel = data.VelX\n",
    "l = len (x_vel)\n",
    "for i in range (0,l,1):\n",
    "    x_vel[i] = (x_vel[i]-min(x_vel))/(max(x_vel)-min(x_vel)) \n",
    "print (x_vel)"
   ]
  },
  {
   "cell_type": "code",
   "execution_count": null,
   "metadata": {},
   "outputs": [],
   "source": [
    "import numpy as np\n",
    "inval1 = np.array ([x_dis])\n",
    "inval2 = np.array ([y_dis])\n",
    "outval1 = np.array ([x_vel])\n",
    "outval2 = np.array ([y_vel])"
   ]
  },
  {
   "cell_type": "code",
   "execution_count": null,
   "metadata": {},
   "outputs": [],
   "source": [
    "print (inval1)"
   ]
  },
  {
   "cell_type": "code",
   "execution_count": null,
   "metadata": {},
   "outputs": [],
   "source": [
    "a = array ([x_dis])"
   ]
  },
  {
   "cell_type": "raw",
   "metadata": {},
   "source": []
  },
  {
   "cell_type": "code",
   "execution_count": null,
   "metadata": {},
   "outputs": [],
   "source": [
    "lst = []"
   ]
  },
  {
   "cell_type": "code",
   "execution_count": null,
   "metadata": {},
   "outputs": [],
   "source": [
    "for i in range (0,l,1):\n",
    "    lst.append (x_dis[i])"
   ]
  },
  {
   "cell_type": "code",
   "execution_count": null,
   "metadata": {},
   "outputs": [],
   "source": [
    "type (lst)"
   ]
  },
  {
   "cell_type": "code",
   "execution_count": null,
   "metadata": {},
   "outputs": [],
   "source": [
    "y_vel = data.VelY\n",
    "l = len (y_vel)\n",
    "for i in range (0,l,1):\n",
    "    y_vel[i] = (y_vel[i]-min(y_vel))/(max(y_vel)-min(y_vel)) \n",
    "print (y_vel)"
   ]
  },
  {
   "cell_type": "code",
   "execution_count": null,
   "metadata": {},
   "outputs": [],
   "source": [
    "inval1 = np.array ([x_dis])\n",
    "inval2 = np.array ([y_dis]).T\n",
    "outval1 = np.array ([x_vel]).T\n",
    "outval2 = np.array ([y_vel]).T"
   ]
  },
  {
   "cell_type": "code",
   "execution_count": null,
   "metadata": {},
   "outputs": [],
   "source": [
    "print (inval1.T)"
   ]
  },
  {
   "cell_type": "code",
   "execution_count": null,
   "metadata": {},
   "outputs": [],
   "source": [
    "print (inval1.shape)"
   ]
  },
  {
   "cell_type": "code",
   "execution_count": null,
   "metadata": {},
   "outputs": [],
   "source": [
    "weights = np.array ([[0.1],[0.2]])\n",
    "print (weights.shape)"
   ]
  },
  {
   "cell_type": "code",
   "execution_count": null,
   "metadata": {},
   "outputs": [],
   "source": [
    "x = weights*inval1"
   ]
  },
  {
   "cell_type": "code",
   "execution_count": null,
   "metadata": {},
   "outputs": [],
   "source": [
    "print (x)"
   ]
  },
  {
   "cell_type": "code",
   "execution_count": null,
   "metadata": {},
   "outputs": [],
   "source": [
    "w1 = np.array ([[0.1]])\n",
    "w2 = np.array ([[0.2]])\n",
    "w3 = np.array ([[0.3]])\n",
    "w4 = np.array ([[0.4]])\n",
    "bias = 0.3\n",
    "lr = 0.05\n",
    "\n",
    "def sigmoid(x):\n",
    "    return 1/(1+np.exp(-x))\n",
    "\n",
    "def sigmoid_der(x):\n",
    "    return  sigmoid(x) * (1-sigmoid(x))\n",
    "\n",
    "for epoch in range (20000):\n",
    "    inputs1 = inval1\n",
    "    inputs2 = inval2\n",
    "    ff_i1 = inputs1 * w1\n",
    "    ff_i2 = inputs2 * w2\n",
    "    \n",
    "    ff_o = sigmoid (ff_i)\n",
    "    \n",
    "    error = ff_o - o_feature\n",
    "    x = error.sum()\n",
    "    \n",
    "    derr_out = error\n",
    "    dout_in = sigmoid_der (ff_o)\n",
    "\n",
    "    deriv = derr_out * dout_in\n",
    "    inputs = i_feature.T\n",
    "    deriv_final = np.dot(inputs,deriv)\n",
    "    weights -= lr * deriv_final\n",
    "    for i in deriv:\n",
    "        bias -= lr * i"
   ]
  },
  {
   "cell_type": "code",
   "execution_count": 1,
   "metadata": {},
   "outputs": [
    {
     "name": "stdout",
     "output_type": "stream",
     "text": [
      "[0.00289551]\n",
      "[0.00347462]\n",
      "[0.00428915]\n",
      "[0.00490189]\n",
      "[0.03553251]\n",
      "[0.04263901]\n",
      "[-0.02234681]\n",
      "[-0.02553921]\n"
     ]
    }
   ],
   "source": [
    "# Scaling Data:\n",
    "\n",
    "# For X Distance:\n",
    "\n",
    "import pandas as pd\n",
    "import numpy as np\n",
    "from numpy import savetxt\n",
    "\n",
    "\n",
    "data = pd.read_csv (\"ce889_dataCollection.csv\")\n",
    "data = data.dropna(axis=0)\n",
    "x_dis = data.XDis\n",
    "l = len (x_dis)\n",
    "for i in range (0,l,1):\n",
    "    x_dis[i] = (x_dis[i]-min(x_dis))/(max(x_dis)-min(x_dis))\n",
    "\n",
    "# For Y Distance:\n",
    "\n",
    "y_dis = data.YDis\n",
    "l = len (y_dis)\n",
    "for i in range (0,l,1):\n",
    "    y_dis[i] = (y_dis[i]-min(y_dis))/(max(y_dis)-min(y_dis)) \n",
    "\n",
    "# For Y Velocity:\n",
    "\n",
    "y_vel = data.VelY\n",
    "l = len (y_vel)\n",
    "for i in range (0,l,1):\n",
    "    y_vel[i] = (y_vel[i]-min(y_vel))/(max(y_vel)-min(y_vel)) \n",
    "\n",
    "# For X Velocity:\n",
    "\n",
    "x_vel = data.VelX\n",
    "l = len (x_vel)\n",
    "for i in range (0,l,1):\n",
    "    x_vel[i] = (x_vel[i]-min(x_vel))/(max(x_vel)-min(x_vel)) \n",
    "\n",
    "\n",
    "w = np.array ([[0.1],[0.2],[0.3],[0.4]])\n",
    "ww = np.array ([[0.5],[0.6],[0.7],[0.8]])\n",
    "weights1 = w\n",
    "weights2 = ww\n",
    "bias = np.array ([[0.3],[0.4]])\n",
    "lr = 0.8\n",
    "la = 0.6\n",
    "\n",
    "def sigmoid(x):\n",
    "    return 1/(1+2.71828**(la*-x))\n",
    "\n",
    "def sigmoid_der(x):\n",
    "    return  sigmoid(x) * (1-sigmoid(x))\n",
    "\n",
    "for epoch in range (1000):\n",
    "\n",
    "    neuron1 = (x_dis*w[0]) + (y_dis*w[1]) + bias[0]\n",
    "    neuron2 = (x_dis*w[2]) + (y_dis*w[3]) + bias[0]\n",
    "    actv1 = sigmoid (neuron1)\n",
    "    actv2 = sigmoid (neuron2)\n",
    "    \n",
    "    neuron3 = (actv1*ww[0]) + (actv2*ww[1]) + bias[1]\n",
    "    neuron4 = (actv1*ww[2]) + (actv2*ww[3]) + bias[1]\n",
    "    actv3 = sigmoid (neuron3)\n",
    "    actv4 = sigmoid (neuron4)\n",
    "    \n",
    "    # error for first output\n",
    "    error1 = actv3 - x_vel\n",
    "    error2 = actv4 - y_vel\n",
    "    \n",
    "    # Back Propagation   \n",
    "for i in actv3:\n",
    "    grad_d1 = la * i * (1 - i) * error1\n",
    "\n",
    "for i in actv4:\n",
    "    grad_d2 = la * i * (1 - i) * error2\n",
    "\n",
    "for i in grad_d1:\n",
    "    ww[0] = lr * i * 0.5\n",
    "    ww[1] = lr * i * 0.6\n",
    "\n",
    "for i in grad_d2:\n",
    "    ww[2] = lr * i * 0.7\n",
    "    ww[3] = lr * i * 0.8   \n",
    "    \n",
    "for i in actv2:\n",
    "    grad_d3 = la * i * (1 - i) * (actv3 * ww[0] + actv4 * ww[1])\n",
    "\n",
    "for i in actv1:\n",
    "    grad_d4 = la * i * (1 - i) * (actv3 * ww[0] + actv4 * ww[1])\n",
    "\n",
    "for i in grad_d3:\n",
    "    w[0] = lr * i * 0.5\n",
    "    w[1] = lr * i * 0.6\n",
    "\n",
    "for i in grad_d4:\n",
    "    w[2] = lr * i * 0.7\n",
    "    w[3] = lr * i * 0.8\n",
    "\n",
    "    \n",
    "for i in w:\n",
    "    print (i)\n",
    "for i in ww:\n",
    "    print (i)"
   ]
  },
  {
   "cell_type": "code",
   "execution_count": 11,
   "metadata": {},
   "outputs": [
    {
     "name": "stdout",
     "output_type": "stream",
     "text": [
      "0.6468189724142985\n",
      "0.6568184211301715\n",
      "0.6765113402193259\n",
      "0.6893990708287159\n"
     ]
    }
   ],
   "source": [
    "import pandas as pd\n",
    "import numpy as np\n",
    "from numpy import savetxt\n",
    "\n",
    "data = pd.read_csv(\"ce889_dataCollection.csv\")\n",
    "data = data.dropna(axis=0)\n",
    "x_dis = data.XDis\n",
    "y_dis = data.YDis\n",
    "y_vel = data.VelY\n",
    "x_vel = data.VelX\n",
    "\n",
    "\n",
    "class Feedforward:\n",
    "\n",
    "\n",
    "    def __init__(self):\n",
    "        pass\n",
    "\n",
    "    def normalize(self):\n",
    "        global l\n",
    "\n",
    "        l = len(x_dis)\n",
    "        for i in range(0, l, 1):\n",
    "            x_dis[i] = (x_dis[i] - min(x_dis)) / (max(x_dis) - min(x_dis))\n",
    "\n",
    "        l = len(y_dis)\n",
    "        for i in range(0, l, 1):\n",
    "            y_dis[i] = (y_dis[i] - min(y_dis)) / (max(y_dis) - min(y_dis))\n",
    "\n",
    "        l = len(y_vel)\n",
    "        for i in range(0, l, 1):\n",
    "            y_vel[i] = (y_vel[i] - min(y_vel)) / (max(y_vel) - min(y_vel))\n",
    "\n",
    "        l = len(x_vel)\n",
    "        for i in range(0, l, 1):\n",
    "            x_vel[i] = (x_vel[i] - min(x_vel)) / (max(x_vel) - min(x_vel))\n",
    "            \n",
    "\n",
    "    def para(self):\n",
    "        global w, ww, weights1, weights2, bias, lr, la\n",
    "        w = np.array([[0.1], [0.2], [0.3], [0.4]])\n",
    "        ww = np.array([[0.5], [0.6], [0.7], [0.8]])\n",
    "        weights1 = w\n",
    "        weights2 = ww\n",
    "        bias = np.array([[0.3], [0.4]])\n",
    "        lr = 0.8\n",
    "        la = 0.6\n",
    "\n",
    "    def sigmoid(self,x):\n",
    "        return 1 / (1 + 2.71828 ** (la * -x))\n",
    "\n",
    "    def feedforward(self, x, y):\n",
    "        global n1,n2,n3,n4,actv1,actv2,actv3,actv4\n",
    "\n",
    "        for epoch in range(1000):\n",
    "            n1 = (x * w[0]) + (y * w[1]) + bias[0]\n",
    "            n2 = (x * w[2]) + (y * w[3]) + bias[0]\n",
    "            actv1 = self.sigmoid(n1)\n",
    "            actv2 = self.sigmoid(n2)\n",
    "\n",
    "            n3 = (actv1 * ww[0]) + (actv2 * ww[1]) + bias[1]\n",
    "            n4 = (actv1 * ww[2]) + (actv2 * ww[3]) + bias[1]\n",
    "            actv3 = self.sigmoid(n3)\n",
    "            actv4 = self.sigmoid(n4)\n",
    "\n",
    "        return actv3, actv4\n",
    "\n",
    "    def rmse(self):\n",
    "        global e1, e2\n",
    "\n",
    "        e1 = (((actv3 - x_vel)**2)/l)**(1/2)\n",
    "        e2 = (((actv4 - y_vel)**2)/l)**(1/2)\n",
    "\n",
    "    def backprop(self):\n",
    "        for i in actv3:\n",
    "            grad_d1 = la * i * (1 - i) * e1\n",
    "\n",
    "        for i in actv4:\n",
    "            grad_d2 = la * i * (1 - i) * e2\n",
    "\n",
    "        for i in grad_d1:\n",
    "            ww[0] = lr * i * 0.5\n",
    "            ww[1] = lr * i * 0.6\n",
    "\n",
    "        for i in grad_d2:\n",
    "            ww[2] = lr * i * 0.7\n",
    "            ww[3] = lr * i * 0.8\n",
    "\n",
    "        for i in actv2:\n",
    "            grad_d3 = la * i * (1 - i) * (actv3 * ww[0] + actv4 * ww[1])\n",
    "\n",
    "        for i in actv1:\n",
    "            grad_d4 = la * i * (1 - i) * (actv3 * ww[0] + actv4 * ww[1])\n",
    "\n",
    "        for i in grad_d3:\n",
    "            w[0] = lr * i * 0.5\n",
    "            w[1] = lr * i * 0.6\n",
    "\n",
    "        for i in grad_d4:\n",
    "            w[2] = lr * i * 0.7\n",
    "            w[3] = lr * i * 0.8\n",
    "\n",
    "    def display(self):\n",
    "        for i in w:\n",
    "            print(i)\n",
    "        for i in ww:\n",
    "            print(i)\n",
    "\n",
    "\n",
    "o1 = Feedforward()\n",
    "o1.normalize()\n",
    "o1.para()\n",
    "o1.feedforward(x_dis, y_dis)\n",
    "o1.rmse()\n",
    "o1.backprop()\n",
    "\n",
    "print (actv3.min())\n",
    "print (actv3.max())\n",
    "print (actv4.min())\n",
    "print (actv4.max())"
   ]
  },
  {
   "cell_type": "code",
   "execution_count": 126,
   "metadata": {},
   "outputs": [
    {
     "name": "stdout",
     "output_type": "stream",
     "text": [
      "1.0\n"
     ]
    }
   ],
   "source": [
    "print (max(x_dis))"
   ]
  },
  {
   "cell_type": "code",
   "execution_count": null,
   "metadata": {},
   "outputs": [],
   "source": [
    "print (inval1.shape)"
   ]
  },
  {
   "cell_type": "code",
   "execution_count": null,
   "metadata": {},
   "outputs": [],
   "source": [
    "inval1 * w1[0]"
   ]
  },
  {
   "cell_type": "code",
   "execution_count": null,
   "metadata": {},
   "outputs": [],
   "source": [
    "print ww[0,1]"
   ]
  },
  {
   "cell_type": "code",
   "execution_count": 127,
   "metadata": {},
   "outputs": [
    {
     "ename": "ValueError",
     "evalue": "Length of passed values is 1, index implies 1267.",
     "output_type": "error",
     "traceback": [
      "\u001b[1;31m---------------------------------------------------------------------------\u001b[0m",
      "\u001b[1;31mValueError\u001b[0m                                Traceback (most recent call last)",
      "\u001b[1;32m<ipython-input-127-9164cc0e9a24>\u001b[0m in \u001b[0;36m<module>\u001b[1;34m\u001b[0m\n\u001b[1;32m----> 1\u001b[1;33m \u001b[0mgrad_d1\u001b[0m \u001b[1;33m=\u001b[0m \u001b[0mla\u001b[0m \u001b[1;33m*\u001b[0m \u001b[0mneuron3\u001b[0m \u001b[1;33m*\u001b[0m \u001b[1;33m[\u001b[0m\u001b[1;36m1\u001b[0m \u001b[1;33m-\u001b[0m \u001b[0mneuron3\u001b[0m\u001b[1;33m]\u001b[0m \u001b[1;33m*\u001b[0m \u001b[0merror1\u001b[0m\u001b[1;33m\u001b[0m\u001b[1;33m\u001b[0m\u001b[0m\n\u001b[0m",
      "\u001b[1;32m~\\anaconda3\\lib\\site-packages\\pandas\\core\\ops\\common.py\u001b[0m in \u001b[0;36mnew_method\u001b[1;34m(self, other)\u001b[0m\n\u001b[0;32m     62\u001b[0m         \u001b[0mother\u001b[0m \u001b[1;33m=\u001b[0m \u001b[0mitem_from_zerodim\u001b[0m\u001b[1;33m(\u001b[0m\u001b[0mother\u001b[0m\u001b[1;33m)\u001b[0m\u001b[1;33m\u001b[0m\u001b[1;33m\u001b[0m\u001b[0m\n\u001b[0;32m     63\u001b[0m \u001b[1;33m\u001b[0m\u001b[0m\n\u001b[1;32m---> 64\u001b[1;33m         \u001b[1;32mreturn\u001b[0m \u001b[0mmethod\u001b[0m\u001b[1;33m(\u001b[0m\u001b[0mself\u001b[0m\u001b[1;33m,\u001b[0m \u001b[0mother\u001b[0m\u001b[1;33m)\u001b[0m\u001b[1;33m\u001b[0m\u001b[1;33m\u001b[0m\u001b[0m\n\u001b[0m\u001b[0;32m     65\u001b[0m \u001b[1;33m\u001b[0m\u001b[0m\n\u001b[0;32m     66\u001b[0m     \u001b[1;32mreturn\u001b[0m \u001b[0mnew_method\u001b[0m\u001b[1;33m\u001b[0m\u001b[1;33m\u001b[0m\u001b[0m\n",
      "\u001b[1;32m~\\anaconda3\\lib\\site-packages\\pandas\\core\\ops\\__init__.py\u001b[0m in \u001b[0;36mwrapper\u001b[1;34m(left, right)\u001b[0m\n\u001b[0;32m    500\u001b[0m         \u001b[0mresult\u001b[0m \u001b[1;33m=\u001b[0m \u001b[0marithmetic_op\u001b[0m\u001b[1;33m(\u001b[0m\u001b[0mlvalues\u001b[0m\u001b[1;33m,\u001b[0m \u001b[0mrvalues\u001b[0m\u001b[1;33m,\u001b[0m \u001b[0mop\u001b[0m\u001b[1;33m,\u001b[0m \u001b[0mstr_rep\u001b[0m\u001b[1;33m)\u001b[0m\u001b[1;33m\u001b[0m\u001b[1;33m\u001b[0m\u001b[0m\n\u001b[0;32m    501\u001b[0m \u001b[1;33m\u001b[0m\u001b[0m\n\u001b[1;32m--> 502\u001b[1;33m         \u001b[1;32mreturn\u001b[0m \u001b[0m_construct_result\u001b[0m\u001b[1;33m(\u001b[0m\u001b[0mleft\u001b[0m\u001b[1;33m,\u001b[0m \u001b[0mresult\u001b[0m\u001b[1;33m,\u001b[0m \u001b[0mindex\u001b[0m\u001b[1;33m=\u001b[0m\u001b[0mleft\u001b[0m\u001b[1;33m.\u001b[0m\u001b[0mindex\u001b[0m\u001b[1;33m,\u001b[0m \u001b[0mname\u001b[0m\u001b[1;33m=\u001b[0m\u001b[0mres_name\u001b[0m\u001b[1;33m)\u001b[0m\u001b[1;33m\u001b[0m\u001b[1;33m\u001b[0m\u001b[0m\n\u001b[0m\u001b[0;32m    503\u001b[0m \u001b[1;33m\u001b[0m\u001b[0m\n\u001b[0;32m    504\u001b[0m     \u001b[0mwrapper\u001b[0m\u001b[1;33m.\u001b[0m\u001b[0m__name__\u001b[0m \u001b[1;33m=\u001b[0m \u001b[0mop_name\u001b[0m\u001b[1;33m\u001b[0m\u001b[1;33m\u001b[0m\u001b[0m\n",
      "\u001b[1;32m~\\anaconda3\\lib\\site-packages\\pandas\\core\\ops\\__init__.py\u001b[0m in \u001b[0;36m_construct_result\u001b[1;34m(left, result, index, name)\u001b[0m\n\u001b[0;32m    473\u001b[0m     \u001b[1;31m# We do not pass dtype to ensure that the Series constructor\u001b[0m\u001b[1;33m\u001b[0m\u001b[1;33m\u001b[0m\u001b[1;33m\u001b[0m\u001b[0m\n\u001b[0;32m    474\u001b[0m     \u001b[1;31m#  does inference in the case where `result` has object-dtype.\u001b[0m\u001b[1;33m\u001b[0m\u001b[1;33m\u001b[0m\u001b[1;33m\u001b[0m\u001b[0m\n\u001b[1;32m--> 475\u001b[1;33m     \u001b[0mout\u001b[0m \u001b[1;33m=\u001b[0m \u001b[0mleft\u001b[0m\u001b[1;33m.\u001b[0m\u001b[0m_constructor\u001b[0m\u001b[1;33m(\u001b[0m\u001b[0mresult\u001b[0m\u001b[1;33m,\u001b[0m \u001b[0mindex\u001b[0m\u001b[1;33m=\u001b[0m\u001b[0mindex\u001b[0m\u001b[1;33m)\u001b[0m\u001b[1;33m\u001b[0m\u001b[1;33m\u001b[0m\u001b[0m\n\u001b[0m\u001b[0;32m    476\u001b[0m     \u001b[0mout\u001b[0m \u001b[1;33m=\u001b[0m \u001b[0mout\u001b[0m\u001b[1;33m.\u001b[0m\u001b[0m__finalize__\u001b[0m\u001b[1;33m(\u001b[0m\u001b[0mleft\u001b[0m\u001b[1;33m)\u001b[0m\u001b[1;33m\u001b[0m\u001b[1;33m\u001b[0m\u001b[0m\n\u001b[0;32m    477\u001b[0m \u001b[1;33m\u001b[0m\u001b[0m\n",
      "\u001b[1;32m~\\anaconda3\\lib\\site-packages\\pandas\\core\\series.py\u001b[0m in \u001b[0;36m__init__\u001b[1;34m(self, data, index, dtype, name, copy, fastpath)\u001b[0m\n\u001b[0;32m    290\u001b[0m                     \u001b[1;32mif\u001b[0m \u001b[0mlen\u001b[0m\u001b[1;33m(\u001b[0m\u001b[0mindex\u001b[0m\u001b[1;33m)\u001b[0m \u001b[1;33m!=\u001b[0m \u001b[0mlen\u001b[0m\u001b[1;33m(\u001b[0m\u001b[0mdata\u001b[0m\u001b[1;33m)\u001b[0m\u001b[1;33m:\u001b[0m\u001b[1;33m\u001b[0m\u001b[1;33m\u001b[0m\u001b[0m\n\u001b[0;32m    291\u001b[0m                         raise ValueError(\n\u001b[1;32m--> 292\u001b[1;33m                             \u001b[1;34mf\"Length of passed values is {len(data)}, \"\u001b[0m\u001b[1;33m\u001b[0m\u001b[1;33m\u001b[0m\u001b[0m\n\u001b[0m\u001b[0;32m    293\u001b[0m                             \u001b[1;34mf\"index implies {len(index)}.\"\u001b[0m\u001b[1;33m\u001b[0m\u001b[1;33m\u001b[0m\u001b[0m\n\u001b[0;32m    294\u001b[0m                         )\n",
      "\u001b[1;31mValueError\u001b[0m: Length of passed values is 1, index implies 1267."
     ]
    }
   ],
   "source": [
    "grad_d1 = la * neuron3 * [1 - neuron3] * error1"
   ]
  },
  {
   "cell_type": "code",
   "execution_count": 132,
   "metadata": {},
   "outputs": [],
   "source": [
    "import pandas as pd\n",
    "import numpy as np\n",
    "from numpy import savetxt\n",
    "\n",
    "\n",
    "data = pd.read_csv (\"ce889_dataCollection.csv\")\n",
    "data = data.dropna(axis=0)\n",
    "Y_dis = data.YDis"
   ]
  },
  {
   "cell_type": "code",
   "execution_count": 134,
   "metadata": {},
   "outputs": [
    {
     "name": "stdout",
     "output_type": "stream",
     "text": [
      "497.03634580000005\n"
     ]
    }
   ],
   "source": [
    "print (max(Y_dis))"
   ]
  },
  {
   "cell_type": "code",
   "execution_count": null,
   "metadata": {},
   "outputs": [],
   "source": []
  }
 ],
 "metadata": {
  "kernelspec": {
   "display_name": "Python 3",
   "language": "python",
   "name": "python3"
  },
  "language_info": {
   "codemirror_mode": {
    "name": "ipython",
    "version": 3
   },
   "file_extension": ".py",
   "mimetype": "text/x-python",
   "name": "python",
   "nbconvert_exporter": "python",
   "pygments_lexer": "ipython3",
   "version": "3.7.6"
  }
 },
 "nbformat": 4,
 "nbformat_minor": 4
}
