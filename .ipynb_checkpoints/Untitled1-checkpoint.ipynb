{
 "cells": [
  {
   "cell_type": "code",
   "execution_count": null,
   "metadata": {},
   "outputs": [],
   "source": []
  },
  {
   "cell_type": "code",
   "execution_count": null,
   "metadata": {},
   "outputs": [],
   "source": []
  },
  {
   "cell_type": "code",
   "execution_count": null,
   "metadata": {},
   "outputs": [],
   "source": [
    "from nltk.book import *\n",
    "from nltk.tokenize.treebank import TreebankWordDetokenizer\n",
    "from nltk.tokenize import RegexpTokenizer\n",
    "\n",
    "\n",
    "A = TreebankWordDetokenizer().detokenize(text7)\n",
    "b= A.lower()\n",
    "\n",
    "Tokenizer = RegexpTokenizer (r'\\w+')\n",
    "T = Tokenizer.tokenize(b)\n",
    "freqdist = nltk.FreqDist(T)\n",
    "for word,frequency in freqdist.most_common(50):\n",
    "    print ('{} -> {}'.format(word,frequency)) "
   ]
  },
  {
   "cell_type": "code",
   "execution_count": 23,
   "metadata": {},
   "outputs": [],
   "source": [
    "freqdist = nltk.FreqDist(T)"
   ]
  },
  {
   "cell_type": "code",
   "execution_count": 24,
   "metadata": {},
   "outputs": [
    {
     "name": "stdout",
     "output_type": "stream",
     "text": [
      "<FreqDist with 9925 samples and 92127 outcomes>\n"
     ]
    }
   ],
   "source": [
    "print (freqdist)"
   ]
  },
  {
   "cell_type": "raw",
   "metadata": {},
   "source": []
  },
  {
   "cell_type": "code",
   "execution_count": 28,
   "metadata": {},
   "outputs": [
    {
     "name": "stdout",
     "output_type": "stream",
     "text": [
      "the -> 4770\n",
      "of -> 2326\n",
      "1 -> 2298\n",
      "to -> 2187\n",
      "a -> 2045\n",
      "t -> 1952\n",
      "in -> 1775\n",
      "and -> 1563\n",
      "s -> 1146\n",
      "0 -> 1127\n",
      "u -> 992\n",
      "2 -> 921\n",
      "for -> 853\n",
      "that -> 848\n",
      "is -> 629\n",
      "said -> 628\n",
      "it -> 578\n",
      "on -> 509\n",
      "by -> 441\n",
      "at -> 435\n",
      "as -> 415\n",
      "3 -> 412\n",
      "with -> 398\n",
      "from -> 392\n",
      "million -> 385\n",
      "mr -> 375\n",
      "be -> 358\n",
      "was -> 350\n",
      "are -> 344\n",
      "its -> 343\n",
      "an -> 336\n",
      "new -> 333\n",
      "has -> 323\n",
      "have -> 316\n",
      "but -> 309\n",
      "he -> 303\n",
      "year -> 297\n",
      "or -> 294\n",
      "will -> 281\n",
      "company -> 263\n",
      "they -> 263\n",
      "which -> 225\n",
      "this -> 224\n",
      "says -> 217\n",
      "stock -> 215\n",
      "about -> 212\n",
      "more -> 206\n",
      "market -> 205\n",
      "would -> 193\n",
      "one -> 190\n"
     ]
    }
   ],
   "source": [
    "for word,frequency in freqdist.most_common(50):\n",
    "    print ('{} -> {}'.format(word,frequency))  "
   ]
  },
  {
   "cell_type": "code",
   "execution_count": null,
   "metadata": {},
   "outputs": [],
   "source": []
  }
 ],
 "metadata": {
  "kernelspec": {
   "display_name": "Python 3",
   "language": "python",
   "name": "python3"
  },
  "language_info": {
   "codemirror_mode": {
    "name": "ipython",
    "version": 3
   },
   "file_extension": ".py",
   "mimetype": "text/x-python",
   "name": "python",
   "nbconvert_exporter": "python",
   "pygments_lexer": "ipython3",
   "version": "3.7.6"
  }
 },
 "nbformat": 4,
 "nbformat_minor": 4
}
